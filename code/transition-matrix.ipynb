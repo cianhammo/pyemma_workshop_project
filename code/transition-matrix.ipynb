{
 "cells": [
  {
   "cell_type": "markdown",
   "metadata": {},
   "source": [
    "# Re-estimation of a transition matrix"
   ]
  },
  {
   "cell_type": "code",
   "execution_count": 4,
   "metadata": {},
   "outputs": [],
   "source": [
    "import numpy as np\n",
    "\n"
   ]
  },
  {
   "cell_type": "markdown",
   "metadata": {},
   "source": [
    "## Generate discrete trajectory from transition matrix"
   ]
  },
  {
   "cell_type": "code",
   "execution_count": null,
   "metadata": {},
   "outputs": [],
   "source": []
  },
  {
   "cell_type": "markdown",
   "metadata": {},
   "source": [
    "## Generate continuous trajectory from discrete trajectory"
   ]
  },
  {
   "cell_type": "code",
   "execution_count": 5,
   "metadata": {},
   "outputs": [
    {
     "name": "stdout",
     "output_type": "stream",
     "text": [
      "[[-0.31117955  0.97313569]\n",
      " [ 1.96411454  0.39982765]\n",
      " [-1.36831195  3.41380398]]\n"
     ]
    }
   ],
   "source": [
    "dtraj = [0,1,2]\n",
    "\n",
    "mu_0 = [0,0]\n",
    "mu_1 = [2,2]\n",
    "mu_2 = [-2,2]\n",
    "\n",
    "sigma_0 = [[1,0],[0,1]]\n",
    "sigma_1 = [[1,0],[0,1]]\n",
    "sigma_2 = [[1,0],[0,1]]\n",
    "\n",
    "mus = [mu_0, mu_1, mu_2]\n",
    "sigmas = [sigma_0, sigma_1, sigma_2]\n",
    "\n",
    "def generate_traj(dtraj, mus, sigmas):\n",
    "\n",
    "    traj = []\n",
    "\n",
    "    for i in range(len(dtraj)):\n",
    "        if dtraj[i] == 0:\n",
    "            traj.append(np.random.multivariate_normal(mus[0], sigmas[0], size=1)[0])\n",
    "        elif dtraj[i] == 1:\n",
    "            traj.append(np.random.multivariate_normal(mus[1], sigmas[1], size=1)[0])\n",
    "        elif dtraj[i] == 2:\n",
    "            traj.append(np.random.multivariate_normal(mus[2], sigmas[2], size=1)[0])\n",
    "        else:\n",
    "            print(\"something went wrong\")\n",
    "            exit()\n",
    "\n",
    "    return np.array(traj)\n",
    "\n",
    "traj = generate_traj(dtraj, mus, sigmas)\n",
    "\n",
    "print(traj)"
   ]
  },
  {
   "cell_type": "markdown",
   "metadata": {},
   "source": [
    "## Rotate trajectory into 5 dimensions and add noise"
   ]
  },
  {
   "cell_type": "code",
   "execution_count": null,
   "metadata": {},
   "outputs": [],
   "source": []
  },
  {
   "cell_type": "markdown",
   "metadata": {},
   "source": [
    "## Analyse generated trajectory with pyEMMA"
   ]
  },
  {
   "cell_type": "code",
   "execution_count": null,
   "metadata": {},
   "outputs": [],
   "source": []
  }
 ],
 "metadata": {
  "kernelspec": {
   "display_name": "Python 3",
   "language": "python",
   "name": "python3"
  },
  "language_info": {
   "codemirror_mode": {
    "name": "ipython",
    "version": 3
   },
   "file_extension": ".py",
   "mimetype": "text/x-python",
   "name": "python",
   "nbconvert_exporter": "python",
   "pygments_lexer": "ipython3",
   "version": "3.7.6"
  },
  "toc": {
   "base_numbering": 1,
   "nav_menu": {},
   "number_sections": true,
   "sideBar": true,
   "skip_h1_title": false,
   "title_cell": "Table of Contents",
   "title_sidebar": "Contents",
   "toc_cell": false,
   "toc_position": {},
   "toc_section_display": true,
   "toc_window_display": false
  }
 },
 "nbformat": 4,
 "nbformat_minor": 4
}
